{
 "cells": [
  {
   "cell_type": "code",
   "execution_count": 1,
   "metadata": {},
   "outputs": [],
   "source": [
    "import os\n",
    "import pandas as pd"
   ]
  },
  {
   "cell_type": "code",
   "execution_count": 2,
   "metadata": {},
   "outputs": [],
   "source": [
    "#read data from cleanup\n",
    "summarized_offensive_stats = pd.read_csv('../Resources/total_offensive_stats.csv')"
   ]
  },
  {
   "cell_type": "code",
   "execution_count": 3,
   "metadata": {},
   "outputs": [],
   "source": [
    "#drop unnecessary index column\n",
    "summarized_offensive_stats = summarized_offensive_stats.drop(columns='Unnamed: 0')"
   ]
  },
  {
   "cell_type": "code",
   "execution_count": 4,
   "metadata": {},
   "outputs": [],
   "source": [
    "#convert age from string format to numberic & convert to total age in days\n",
    "summarized_offensive_stats['age_year'] = pd.to_numeric(summarized_offensive_stats['age'].str.split('-').str[0])\n",
    "summarized_offensive_stats['age_year'] = summarized_offensive_stats['age_year'].multiply(365.25)\n",
    "summarized_offensive_stats['age_days'] = pd.to_numeric(summarized_offensive_stats['age'].str.split('-').str[1])\n",
    "summarized_offensive_stats['player_age'] = summarized_offensive_stats['age_year'] + summarized_offensive_stats['age_days']"
   ]
  },
  {
   "cell_type": "code",
   "execution_count": 5,
   "metadata": {},
   "outputs": [],
   "source": [
    "#drop columns that are not needed for summarizing data\n",
    "summarized_offensive_stats = summarized_offensive_stats.drop(columns=['date','game_number','opponent','game_won','player_team_score','opponent_score','kick_return_attempts','punt_return_attempts','team'])"
   ]
  },
  {
   "cell_type": "code",
   "execution_count": 6,
   "metadata": {},
   "outputs": [],
   "source": [
    "#summarize data\n",
    "summarized_offensive_stats = summarized_offensive_stats.groupby(\n",
    "    ['player_id','year','game_location'], as_index = False\n",
    "    ).agg(\n",
    "        {\n",
    "            'player_age':'mean',\n",
    "            'passing_attempts':sum,\n",
    "            'passing_completions':sum,\n",
    "            'passing_yards':sum,\n",
    "            'passing_rating':'mean',\n",
    "            'passing_touchdowns':sum,\n",
    "            'passing_interceptions':sum,\n",
    "            'passing_sacks':sum,\n",
    "            'passing_sacks_yards_lost':sum,\n",
    "            'rushing_attempts':sum,\n",
    "            'rushing_yards':sum,\n",
    "            'rushing_touchdowns':sum,\n",
    "            'receiving_targets':sum,\n",
    "            'receiving_receptions':sum,\n",
    "            'receiving_yards':sum,\n",
    "            'receiving_touchdowns':sum,\n",
    "            'kick_return_yards':sum,\n",
    "            'kick_return_touchdowns':sum,\n",
    "            'punt_return_yards':sum,\n",
    "            'punt_return_touchdowns':sum,\n",
    "            'total_passing_fantasy_points':sum,\n",
    "            'total_rushing_fantasy_points':sum,\n",
    "            'total_receiving_fantasy_points':sum,\n",
    "            'total_other_fantasy_points':sum,\n",
    "            'total_combined_fantasy_points':sum\n",
    "        }\n",
    "    )"
   ]
  },
  {
   "cell_type": "code",
   "execution_count": 7,
   "metadata": {},
   "outputs": [],
   "source": [
    "#output to csv\n",
    "summarized_offensive_stats.to_csv('../Resources/summarized_offensive_stats.csv')"
   ]
  },
  {
   "cell_type": "code",
   "execution_count": 8,
   "metadata": {},
   "outputs": [],
   "source": [
    "#combine all data into one DatFrame\n",
    "\n",
    "stats_total=pd.read_csv('../Resources/summarized_offensive_stats.csv')\n",
    "players_total=pd.read_csv('../Resources/offensive_players.csv')\n"
   ]
  },
  {
   "cell_type": "code",
   "execution_count": 9,
   "metadata": {},
   "outputs": [
    {
     "data": {
      "text/html": [
       "<div>\n",
       "<style scoped>\n",
       "    .dataframe tbody tr th:only-of-type {\n",
       "        vertical-align: middle;\n",
       "    }\n",
       "\n",
       "    .dataframe tbody tr th {\n",
       "        vertical-align: top;\n",
       "    }\n",
       "\n",
       "    .dataframe thead th {\n",
       "        text-align: right;\n",
       "    }\n",
       "</style>\n",
       "<table border=\"1\" class=\"dataframe\">\n",
       "  <thead>\n",
       "    <tr style=\"text-align: right;\">\n",
       "      <th></th>\n",
       "      <th>Unnamed: 0_x</th>\n",
       "      <th>player_id</th>\n",
       "      <th>name</th>\n",
       "      <th>position</th>\n",
       "      <th>height</th>\n",
       "      <th>weight</th>\n",
       "      <th>current_team</th>\n",
       "      <th>birth_date</th>\n",
       "      <th>birth_place</th>\n",
       "      <th>death_date</th>\n",
       "      <th>...</th>\n",
       "      <th>receiving_touchdowns</th>\n",
       "      <th>kick_return_yards</th>\n",
       "      <th>kick_return_touchdowns</th>\n",
       "      <th>punt_return_yards</th>\n",
       "      <th>punt_return_touchdowns</th>\n",
       "      <th>total_passing_fantasy_points</th>\n",
       "      <th>total_rushing_fantasy_points</th>\n",
       "      <th>total_receiving_fantasy_points</th>\n",
       "      <th>total_other_fantasy_points</th>\n",
       "      <th>total_combined_fantasy_points</th>\n",
       "    </tr>\n",
       "  </thead>\n",
       "  <tbody>\n",
       "    <tr>\n",
       "      <td>0</td>\n",
       "      <td>3</td>\n",
       "      <td>18182</td>\n",
       "      <td>Steve Ramsey</td>\n",
       "      <td>QB</td>\n",
       "      <td>6-2</td>\n",
       "      <td>210.0</td>\n",
       "      <td>NaN</td>\n",
       "      <td>1948-04-22</td>\n",
       "      <td>Dallas, TX</td>\n",
       "      <td>1999-10-15</td>\n",
       "      <td>...</td>\n",
       "      <td>0</td>\n",
       "      <td>0</td>\n",
       "      <td>0</td>\n",
       "      <td>0</td>\n",
       "      <td>0</td>\n",
       "      <td>0.00</td>\n",
       "      <td>0.0</td>\n",
       "      <td>0.0</td>\n",
       "      <td>0</td>\n",
       "      <td>0.00</td>\n",
       "    </tr>\n",
       "    <tr>\n",
       "      <td>1</td>\n",
       "      <td>3</td>\n",
       "      <td>18182</td>\n",
       "      <td>Steve Ramsey</td>\n",
       "      <td>QB</td>\n",
       "      <td>6-2</td>\n",
       "      <td>210.0</td>\n",
       "      <td>NaN</td>\n",
       "      <td>1948-04-22</td>\n",
       "      <td>Dallas, TX</td>\n",
       "      <td>1999-10-15</td>\n",
       "      <td>...</td>\n",
       "      <td>0</td>\n",
       "      <td>0</td>\n",
       "      <td>0</td>\n",
       "      <td>0</td>\n",
       "      <td>0</td>\n",
       "      <td>35.40</td>\n",
       "      <td>0.6</td>\n",
       "      <td>0.0</td>\n",
       "      <td>0</td>\n",
       "      <td>36.00</td>\n",
       "    </tr>\n",
       "    <tr>\n",
       "      <td>2</td>\n",
       "      <td>3</td>\n",
       "      <td>18182</td>\n",
       "      <td>Steve Ramsey</td>\n",
       "      <td>QB</td>\n",
       "      <td>6-2</td>\n",
       "      <td>210.0</td>\n",
       "      <td>NaN</td>\n",
       "      <td>1948-04-22</td>\n",
       "      <td>Dallas, TX</td>\n",
       "      <td>1999-10-15</td>\n",
       "      <td>...</td>\n",
       "      <td>0</td>\n",
       "      <td>0</td>\n",
       "      <td>0</td>\n",
       "      <td>0</td>\n",
       "      <td>0</td>\n",
       "      <td>13.40</td>\n",
       "      <td>0.0</td>\n",
       "      <td>0.0</td>\n",
       "      <td>0</td>\n",
       "      <td>13.40</td>\n",
       "    </tr>\n",
       "    <tr>\n",
       "      <td>3</td>\n",
       "      <td>3</td>\n",
       "      <td>18182</td>\n",
       "      <td>Steve Ramsey</td>\n",
       "      <td>QB</td>\n",
       "      <td>6-2</td>\n",
       "      <td>210.0</td>\n",
       "      <td>NaN</td>\n",
       "      <td>1948-04-22</td>\n",
       "      <td>Dallas, TX</td>\n",
       "      <td>1999-10-15</td>\n",
       "      <td>...</td>\n",
       "      <td>0</td>\n",
       "      <td>0</td>\n",
       "      <td>0</td>\n",
       "      <td>0</td>\n",
       "      <td>0</td>\n",
       "      <td>16.72</td>\n",
       "      <td>6.8</td>\n",
       "      <td>0.0</td>\n",
       "      <td>0</td>\n",
       "      <td>23.52</td>\n",
       "    </tr>\n",
       "    <tr>\n",
       "      <td>4</td>\n",
       "      <td>3</td>\n",
       "      <td>18182</td>\n",
       "      <td>Steve Ramsey</td>\n",
       "      <td>QB</td>\n",
       "      <td>6-2</td>\n",
       "      <td>210.0</td>\n",
       "      <td>NaN</td>\n",
       "      <td>1948-04-22</td>\n",
       "      <td>Dallas, TX</td>\n",
       "      <td>1999-10-15</td>\n",
       "      <td>...</td>\n",
       "      <td>0</td>\n",
       "      <td>0</td>\n",
       "      <td>0</td>\n",
       "      <td>0</td>\n",
       "      <td>0</td>\n",
       "      <td>25.28</td>\n",
       "      <td>6.7</td>\n",
       "      <td>0.0</td>\n",
       "      <td>0</td>\n",
       "      <td>31.98</td>\n",
       "    </tr>\n",
       "  </tbody>\n",
       "</table>\n",
       "<p>5 rows × 47 columns</p>\n",
       "</div>"
      ],
      "text/plain": [
       "   Unnamed: 0_x  player_id          name position height  weight current_team  \\\n",
       "0             3      18182  Steve Ramsey       QB    6-2   210.0          NaN   \n",
       "1             3      18182  Steve Ramsey       QB    6-2   210.0          NaN   \n",
       "2             3      18182  Steve Ramsey       QB    6-2   210.0          NaN   \n",
       "3             3      18182  Steve Ramsey       QB    6-2   210.0          NaN   \n",
       "4             3      18182  Steve Ramsey       QB    6-2   210.0          NaN   \n",
       "\n",
       "   birth_date birth_place  death_date  ... receiving_touchdowns  \\\n",
       "0  1948-04-22  Dallas, TX  1999-10-15  ...                    0   \n",
       "1  1948-04-22  Dallas, TX  1999-10-15  ...                    0   \n",
       "2  1948-04-22  Dallas, TX  1999-10-15  ...                    0   \n",
       "3  1948-04-22  Dallas, TX  1999-10-15  ...                    0   \n",
       "4  1948-04-22  Dallas, TX  1999-10-15  ...                    0   \n",
       "\n",
       "  kick_return_yards kick_return_touchdowns  punt_return_yards  \\\n",
       "0                 0                      0                  0   \n",
       "1                 0                      0                  0   \n",
       "2                 0                      0                  0   \n",
       "3                 0                      0                  0   \n",
       "4                 0                      0                  0   \n",
       "\n",
       "   punt_return_touchdowns  total_passing_fantasy_points  \\\n",
       "0                       0                          0.00   \n",
       "1                       0                         35.40   \n",
       "2                       0                         13.40   \n",
       "3                       0                         16.72   \n",
       "4                       0                         25.28   \n",
       "\n",
       "  total_rushing_fantasy_points  total_receiving_fantasy_points  \\\n",
       "0                          0.0                             0.0   \n",
       "1                          0.6                             0.0   \n",
       "2                          0.0                             0.0   \n",
       "3                          6.8                             0.0   \n",
       "4                          6.7                             0.0   \n",
       "\n",
       "  total_other_fantasy_points  total_combined_fantasy_points  \n",
       "0                          0                           0.00  \n",
       "1                          0                          36.00  \n",
       "2                          0                          13.40  \n",
       "3                          0                          23.52  \n",
       "4                          0                          31.98  \n",
       "\n",
       "[5 rows x 47 columns]"
      ]
     },
     "execution_count": 9,
     "metadata": {},
     "output_type": "execute_result"
    }
   ],
   "source": [
    "#combined dataframe\n",
    "\n",
    "combined_df=pd.merge(players_total,stats_total, on='player_id')\n"
   ]
  },
  {
   "cell_type": "code",
   "execution_count": 10,
   "metadata": {},
   "outputs": [],
   "source": [
    "#change height into inches\n",
    "combined_df['height_inches'] = pd.to_numeric(combined_df['height'].str.split('-').str[0])\n",
    "combined_df['height_inches'] = combined_df['height_inches'].multiply(12)+ \\\n",
    "pd.to_numeric(combined_df['height'].str.split('-').str[1])\n"
   ]
  },
  {
   "cell_type": "code",
   "execution_count": 14,
   "metadata": {},
   "outputs": [],
   "source": [
    "position_data = combined_df[\"position\"]\n",
    "position_cleanup = []\n",
    "for x in position_data:\n",
    "    position_cleanup.append(x[:2])\n",
    "combined_df[\"position_cleaned\"] = position_cleanup"
   ]
  },
  {
   "cell_type": "code",
   "execution_count": 20,
   "metadata": {},
   "outputs": [],
   "source": [
    "offensive_positions =['QB','RB','TB','HB','WR','TE','FB','WB','SE','FL']\n",
    "offensive_position_players = combined_df[combined_df[\"position_cleaned\"].isin(offensive_positions)]\n",
    "combined_df.loc[combined_df[\"position_cleaned\"] == \"TB\", \"position_cleaned\"] = \"RB\"\n",
    "combined_df.loc[combined_df[\"position_cleaned\"] == \"HB\", \"position_cleaned\"] = \"RB\"\n",
    "combined_df.loc[combined_df[\"position_cleaned\"] == \"FB\", \"position_cleaned\"] = \"RB\"\n",
    "combined_df.loc[combined_df[\"position_cleaned\"] == \"WB\", \"position_cleaned\"] = \"RB\"\n",
    "combined_df.loc[combined_df[\"position_cleaned\"] == \"SE\", \"position_cleaned\"] = \"WR\"\n",
    "combined_df.loc[combined_df[\"position_cleaned\"] == \"FL\", \"position_cleaned\"] = \"WR\""
   ]
  },
  {
   "cell_type": "code",
   "execution_count": 21,
   "metadata": {},
   "outputs": [
    {
     "data": {
      "text/plain": [
       "array(['QB', 'TE', 'RB', 'WR'], dtype=object)"
      ]
     },
     "execution_count": 21,
     "metadata": {},
     "output_type": "execute_result"
    }
   ],
   "source": [
    "combined_df['position_cleaned'].unique()"
   ]
  },
  {
   "cell_type": "code",
   "execution_count": 23,
   "metadata": {},
   "outputs": [],
   "source": [
    "combined_df.to_csv('../Resources/total_combined_data.csv')"
   ]
  },
  {
   "cell_type": "code",
   "execution_count": null,
   "metadata": {},
   "outputs": [],
   "source": []
  }
 ],
 "metadata": {
  "kernelspec": {
   "display_name": "Python 3",
   "language": "python",
   "name": "python3"
  },
  "language_info": {
   "codemirror_mode": {
    "name": "ipython",
    "version": 3
   },
   "file_extension": ".py",
   "mimetype": "text/x-python",
   "name": "python",
   "nbconvert_exporter": "python",
   "pygments_lexer": "ipython3",
   "version": "3.7.4"
  }
 },
 "nbformat": 4,
 "nbformat_minor": 4
}

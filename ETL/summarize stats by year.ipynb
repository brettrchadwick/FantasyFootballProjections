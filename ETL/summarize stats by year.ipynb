{
 "cells": [
  {
   "cell_type": "code",
   "execution_count": 1,
   "metadata": {},
   "outputs": [],
   "source": [
    "import os\n",
    "import pandas as pd"
   ]
  },
  {
   "cell_type": "code",
   "execution_count": 2,
   "metadata": {},
   "outputs": [],
   "source": [
    "#read data from cleanup\n",
    "summarized_offensive_stats = pd.read_csv('../Resources/total_offensive_stats.csv')"
   ]
  },
  {
   "cell_type": "code",
   "execution_count": 3,
   "metadata": {},
   "outputs": [],
   "source": [
    "#drop unnecessary index column\n",
    "summarized_offensive_stats = summarized_offensive_stats.drop(columns='Unnamed: 0')"
   ]
  },
  {
   "cell_type": "code",
   "execution_count": 4,
   "metadata": {},
   "outputs": [],
   "source": [
    "#convert age from string format to numberic & convert to total age in days\n",
    "summarized_offensive_stats['age_year'] = pd.to_numeric(summarized_offensive_stats['age'].str.split('-').str[0])\n",
    "summarized_offensive_stats['age_year'] = summarized_offensive_stats['age_year'].multiply(365.25)\n",
    "summarized_offensive_stats['age_days'] = pd.to_numeric(summarized_offensive_stats['age'].str.split('-').str[1])\n",
    "summarized_offensive_stats['player_age'] = summarized_offensive_stats['age_year'] + summarized_offensive_stats['age_days']"
   ]
  },
  {
   "cell_type": "code",
   "execution_count": 5,
   "metadata": {},
   "outputs": [],
   "source": [
    "#drop columns that are not needed for summarizing data\n",
    "summarized_offensive_stats = summarized_offensive_stats.drop(columns=['date','game_number','opponent','game_won','player_team_score','opponent_score','kick_return_attempts','punt_return_attempts','team'])"
   ]
  },
  {
   "cell_type": "code",
   "execution_count": 6,
   "metadata": {},
   "outputs": [],
   "source": [
    "#summarize data\n",
    "summarized_offensive_stats = summarized_offensive_stats.groupby(\n",
    "    ['player_id','year','game_location'], as_index = False\n",
    "    ).agg(\n",
    "        {\n",
    "            'player_age':'mean',\n",
    "            'passing_attempts':sum,\n",
    "            'passing_completions':sum,\n",
    "            'passing_yards':sum,\n",
    "            'passing_rating':'mean',\n",
    "            'passing_touchdowns':sum,\n",
    "            'passing_interceptions':sum,\n",
    "            'passing_sacks':sum,\n",
    "            'passing_sacks_yards_lost':sum,\n",
    "            'rushing_attempts':sum,\n",
    "            'rushing_yards':sum,\n",
    "            'rushing_touchdowns':sum,\n",
    "            'receiving_targets':sum,\n",
    "            'receiving_receptions':sum,\n",
    "            'receiving_yards':sum,\n",
    "            'receiving_touchdowns':sum,\n",
    "            'kick_return_yards':sum,\n",
    "            'kick_return_touchdowns':sum,\n",
    "            'punt_return_yards':sum,\n",
    "            'punt_return_touchdowns':sum,\n",
    "            'total_passing_fantasy_points':sum,\n",
    "            'total_rushing_fantasy_points':sum,\n",
    "            'total_receiving_fantasy_points':sum,\n",
    "            'total_other_fantasy_points':sum,\n",
    "            'total_combined_fantasy_points':sum\n",
    "        }\n",
    "    )"
   ]
  },
  {
   "cell_type": "code",
   "execution_count": 8,
   "metadata": {},
   "outputs": [],
   "source": [
    "#output to csv\n",
    "summarized_offensive_stats.to_csv('../Resources/summarized_offensive_stats.csv')"
   ]
  }
 ],
 "metadata": {
  "kernelspec": {
   "display_name": "Python 3",
   "language": "python",
   "name": "python3"
  },
  "language_info": {
   "codemirror_mode": {
    "name": "ipython",
    "version": 3
   },
   "file_extension": ".py",
   "mimetype": "text/x-python",
   "name": "python",
   "nbconvert_exporter": "python",
   "pygments_lexer": "ipython3",
   "version": "3.8.1"
  }
 },
 "nbformat": 4,
 "nbformat_minor": 4
}

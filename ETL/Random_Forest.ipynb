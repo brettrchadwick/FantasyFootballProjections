{
 "cells": [
  {
   "cell_type": "code",
   "execution_count": 1,
   "metadata": {},
   "outputs": [],
   "source": [
    "from sklearn import tree\n",
    "import pandas as pd\n",
    "import os\n",
    "import numpy as np\n",
    "import matplotlib. pyplot as plt"
   ]
  },
  {
   "cell_type": "code",
   "execution_count": 2,
   "metadata": {
    "scrolled": false
   },
   "outputs": [
    {
     "data": {
      "text/plain": [
       "player_id                          int64\n",
       "passing_completions                int64\n",
       "total_combined_fantasy_points    float64\n",
       "total_passing_fantasy_points     float64\n",
       "year                               int64\n",
       "dtype: object"
      ]
     },
     "execution_count": 2,
     "metadata": {},
     "output_type": "execute_result"
    }
   ],
   "source": [
    "All_Positions = pd.read_csv('../Resources/total_combined_data_no_game_location.csv')\n",
    "All_Positions = All_Positions[All_Positions['year']>=2010]\n",
    "All_Positions = All_Positions[All_Positions['total_combined_fantasy_points']> 64]\n",
    "QB_only = All_Positions[All_Positions['position_cleaned']=='QB']\n",
    "QB_stats = QB_only[['player_id','passing_completions', 'total_combined_fantasy_points','total_passing_fantasy_points','year']]\n",
    "QB_stats.dtypes\n"
   ]
  },
  {
   "cell_type": "code",
   "execution_count": 3,
   "metadata": {},
   "outputs": [
    {
     "data": {
      "text/html": [
       "<div>\n",
       "<style scoped>\n",
       "    .dataframe tbody tr th:only-of-type {\n",
       "        vertical-align: middle;\n",
       "    }\n",
       "\n",
       "    .dataframe tbody tr th {\n",
       "        vertical-align: top;\n",
       "    }\n",
       "\n",
       "    .dataframe thead th {\n",
       "        text-align: right;\n",
       "    }\n",
       "</style>\n",
       "<table border=\"1\" class=\"dataframe\">\n",
       "  <thead>\n",
       "    <tr style=\"text-align: right;\">\n",
       "      <th></th>\n",
       "      <th>player_id</th>\n",
       "      <th>name</th>\n",
       "    </tr>\n",
       "  </thead>\n",
       "  <tbody>\n",
       "    <tr>\n",
       "      <td>0</td>\n",
       "      <td>18182</td>\n",
       "      <td>Steve Ramsey</td>\n",
       "    </tr>\n",
       "    <tr>\n",
       "      <td>1</td>\n",
       "      <td>4310</td>\n",
       "      <td>Jerome Collins</td>\n",
       "    </tr>\n",
       "    <tr>\n",
       "      <td>2</td>\n",
       "      <td>13379</td>\n",
       "      <td>Hub Lindsey</td>\n",
       "    </tr>\n",
       "    <tr>\n",
       "      <td>3</td>\n",
       "      <td>11755</td>\n",
       "      <td>LaMont Jordan</td>\n",
       "    </tr>\n",
       "    <tr>\n",
       "      <td>4</td>\n",
       "      <td>24331</td>\n",
       "      <td>Jeff Wilner</td>\n",
       "    </tr>\n",
       "    <tr>\n",
       "      <td>...</td>\n",
       "      <td>...</td>\n",
       "      <td>...</td>\n",
       "    </tr>\n",
       "    <tr>\n",
       "      <td>7916</td>\n",
       "      <td>13402</td>\n",
       "      <td>Jonathan Linton</td>\n",
       "    </tr>\n",
       "    <tr>\n",
       "      <td>7917</td>\n",
       "      <td>12824</td>\n",
       "      <td>Mike Landrum</td>\n",
       "    </tr>\n",
       "    <tr>\n",
       "      <td>7918</td>\n",
       "      <td>15903</td>\n",
       "      <td>Rick Moser</td>\n",
       "    </tr>\n",
       "    <tr>\n",
       "      <td>7919</td>\n",
       "      <td>19372</td>\n",
       "      <td>Brandon Saine</td>\n",
       "    </tr>\n",
       "    <tr>\n",
       "      <td>7920</td>\n",
       "      <td>13852</td>\n",
       "      <td>Jeff Maehl</td>\n",
       "    </tr>\n",
       "  </tbody>\n",
       "</table>\n",
       "<p>7921 rows × 2 columns</p>\n",
       "</div>"
      ],
      "text/plain": [
       "      player_id             name\n",
       "0         18182     Steve Ramsey\n",
       "1          4310   Jerome Collins\n",
       "2         13379      Hub Lindsey\n",
       "3         11755    LaMont Jordan\n",
       "4         24331      Jeff Wilner\n",
       "...         ...              ...\n",
       "7916      13402  Jonathan Linton\n",
       "7917      12824     Mike Landrum\n",
       "7918      15903       Rick Moser\n",
       "7919      19372    Brandon Saine\n",
       "7920      13852       Jeff Maehl\n",
       "\n",
       "[7921 rows x 2 columns]"
      ]
     },
     "execution_count": 3,
     "metadata": {},
     "output_type": "execute_result"
    }
   ],
   "source": [
    "Offensive_Players = pd.read_csv('../Resources/offensive_players.csv')\n",
    "Name_Id = Offensive_Players[['player_id', 'name']]\n",
    "Name_Id"
   ]
  },
  {
   "cell_type": "code",
   "execution_count": 4,
   "metadata": {
    "scrolled": true
   },
   "outputs": [
    {
     "data": {
      "text/html": [
       "<div>\n",
       "<style scoped>\n",
       "    .dataframe tbody tr th:only-of-type {\n",
       "        vertical-align: middle;\n",
       "    }\n",
       "\n",
       "    .dataframe tbody tr th {\n",
       "        vertical-align: top;\n",
       "    }\n",
       "\n",
       "    .dataframe thead th {\n",
       "        text-align: right;\n",
       "    }\n",
       "</style>\n",
       "<table border=\"1\" class=\"dataframe\">\n",
       "  <thead>\n",
       "    <tr style=\"text-align: right;\">\n",
       "      <th></th>\n",
       "      <th>player_id</th>\n",
       "      <th>passing_completions</th>\n",
       "      <th>total_combined_fantasy_points</th>\n",
       "      <th>total_passing_fantasy_points</th>\n",
       "      <th>year</th>\n",
       "    </tr>\n",
       "  </thead>\n",
       "  <tbody>\n",
       "    <tr>\n",
       "      <td>773</td>\n",
       "      <td>6975</td>\n",
       "      <td>441</td>\n",
       "      <td>230.90</td>\n",
       "      <td>204.00</td>\n",
       "      <td>2010</td>\n",
       "    </tr>\n",
       "    <tr>\n",
       "      <td>774</td>\n",
       "      <td>6975</td>\n",
       "      <td>569</td>\n",
       "      <td>250.78</td>\n",
       "      <td>229.28</td>\n",
       "      <td>2011</td>\n",
       "    </tr>\n",
       "    <tr>\n",
       "      <td>775</td>\n",
       "      <td>6975</td>\n",
       "      <td>505</td>\n",
       "      <td>243.70</td>\n",
       "      <td>218.00</td>\n",
       "      <td>2012</td>\n",
       "    </tr>\n",
       "    <tr>\n",
       "      <td>776</td>\n",
       "      <td>6975</td>\n",
       "      <td>350</td>\n",
       "      <td>178.66</td>\n",
       "      <td>137.16</td>\n",
       "      <td>2013</td>\n",
       "    </tr>\n",
       "    <tr>\n",
       "      <td>777</td>\n",
       "      <td>6975</td>\n",
       "      <td>312</td>\n",
       "      <td>194.72</td>\n",
       "      <td>164.32</td>\n",
       "      <td>2014</td>\n",
       "    </tr>\n",
       "    <tr>\n",
       "      <td>...</td>\n",
       "      <td>...</td>\n",
       "      <td>...</td>\n",
       "      <td>...</td>\n",
       "      <td>...</td>\n",
       "      <td>...</td>\n",
       "    </tr>\n",
       "    <tr>\n",
       "      <td>27117</td>\n",
       "      <td>9351</td>\n",
       "      <td>525</td>\n",
       "      <td>211.14</td>\n",
       "      <td>187.24</td>\n",
       "      <td>2010</td>\n",
       "    </tr>\n",
       "    <tr>\n",
       "      <td>27118</td>\n",
       "      <td>9351</td>\n",
       "      <td>518</td>\n",
       "      <td>209.04</td>\n",
       "      <td>203.84</td>\n",
       "      <td>2011</td>\n",
       "    </tr>\n",
       "    <tr>\n",
       "      <td>27119</td>\n",
       "      <td>9351</td>\n",
       "      <td>221</td>\n",
       "      <td>76.48</td>\n",
       "      <td>72.68</td>\n",
       "      <td>2012</td>\n",
       "    </tr>\n",
       "    <tr>\n",
       "      <td>27122</td>\n",
       "      <td>9351</td>\n",
       "      <td>256</td>\n",
       "      <td>97.10</td>\n",
       "      <td>95.60</td>\n",
       "      <td>2015</td>\n",
       "    </tr>\n",
       "    <tr>\n",
       "      <td>27934</td>\n",
       "      <td>7637</td>\n",
       "      <td>366</td>\n",
       "      <td>242.26</td>\n",
       "      <td>184.36</td>\n",
       "      <td>2010</td>\n",
       "    </tr>\n",
       "  </tbody>\n",
       "</table>\n",
       "<p>295 rows × 5 columns</p>\n",
       "</div>"
      ],
      "text/plain": [
       "       player_id  passing_completions  total_combined_fantasy_points  \\\n",
       "773         6975                  441                         230.90   \n",
       "774         6975                  569                         250.78   \n",
       "775         6975                  505                         243.70   \n",
       "776         6975                  350                         178.66   \n",
       "777         6975                  312                         194.72   \n",
       "...          ...                  ...                            ...   \n",
       "27117       9351                  525                         211.14   \n",
       "27118       9351                  518                         209.04   \n",
       "27119       9351                  221                          76.48   \n",
       "27122       9351                  256                          97.10   \n",
       "27934       7637                  366                         242.26   \n",
       "\n",
       "       total_passing_fantasy_points  year  \n",
       "773                          204.00  2010  \n",
       "774                          229.28  2011  \n",
       "775                          218.00  2012  \n",
       "776                          137.16  2013  \n",
       "777                          164.32  2014  \n",
       "...                             ...   ...  \n",
       "27117                        187.24  2010  \n",
       "27118                        203.84  2011  \n",
       "27119                         72.68  2012  \n",
       "27122                         95.60  2015  \n",
       "27934                        184.36  2010  \n",
       "\n",
       "[295 rows x 5 columns]"
      ]
     },
     "execution_count": 4,
     "metadata": {},
     "output_type": "execute_result"
    }
   ],
   "source": [
    "QB_stats_cleaned = QB_stats.dropna()\n",
    "QB_stats_cleaned"
   ]
  },
  {
   "cell_type": "code",
   "execution_count": 27,
   "metadata": {},
   "outputs": [],
   "source": [
    "#Select column 1 (passing_completions) as X\n",
    "X = QB_stats_cleaned.iloc[:, 1:2].values\n",
    "#print(X)\n",
    "#Select column 2 (total_combined_fantasy_points) as y\n",
    "y = QB_stats_cleaned.iloc[:, 2].values\n",
    "#print(y)"
   ]
  },
  {
   "cell_type": "code",
   "execution_count": 28,
   "metadata": {},
   "outputs": [
    {
     "data": {
      "text/plain": [
       "RandomForestRegressor(bootstrap=True, criterion='mse', max_depth=None,\n",
       "                      max_features='auto', max_leaf_nodes=None,\n",
       "                      min_impurity_decrease=0.0, min_impurity_split=None,\n",
       "                      min_samples_leaf=1, min_samples_split=2,\n",
       "                      min_weight_fraction_leaf=0.0, n_estimators=100,\n",
       "                      n_jobs=None, oob_score=False, random_state=0, verbose=0,\n",
       "                      warm_start=False)"
      ]
     },
     "execution_count": 28,
     "metadata": {},
     "output_type": "execute_result"
    }
   ],
   "source": [
    "from sklearn.ensemble import RandomForestRegressor\n",
    "#make a regressor object\n",
    "regressor = RandomForestRegressor(n_estimators = 100, random_state = 0)\n",
    "#fit the regressor with X and y data\n",
    "regressor.fit(X,y)"
   ]
  },
  {
   "cell_type": "code",
   "execution_count": 37,
   "metadata": {
    "scrolled": true
   },
   "outputs": [
    {
     "data": {
      "image/png": "[encoded data removed]",
      "text/plain": [
       "<Figure size 432x288 with 1 Axes>"
      ]
     },
     "metadata": {
      "needs_background": "light"
     },
     "output_type": "display_data"
    }
   ],
   "source": [
    "#Visualize the Random Forest Regression Results\n",
    "X_grid = np.arange(min(X), max(X), 0.01)\n",
    "X_grid = X_grid.reshape((len(X_grid), 1))\n",
    "#scatter plot of data\n",
    "plt.scatter(X,y, color = 'blue')\n",
    "#plot of predicted data\n",
    "plt.plot(X_grid, regressor.predict(X_grid), color = 'green')\n",
    "plt.title('Random Forest Regression')\n",
    "plt.xlabel('Passing Completions')\n",
    "plt.ylabel('Total Combined Fantasy Points')\n",
    "plt.show()"
   ]
  },
  {
   "cell_type": "code",
   "execution_count": 30,
   "metadata": {},
   "outputs": [
    {
     "name": "stdout",
     "output_type": "stream",
     "text": [
      "[-42.41393133 -48.74394573 -25.15174065 -41.42641044 -53.33378329\n",
      " -27.18096078 -60.81792357 -35.37736311 -42.35852084 -55.75977537]\n"
     ]
    }
   ],
   "source": [
    "from sklearn.model_selection import cross_val_score, GridSearchCV, cross_val_predict\n",
    "from sklearn.ensemble import RandomForestRegressor\n",
    "from sklearn.preprocessing import MinMaxScaler\n",
    "#Select column 1 (passing_completions) as X\n",
    "X = QB_stats_cleaned.iloc[:, 1:2].values\n",
    "#Select column 2 (total_combined_fantasy_points) as y\n",
    "y = QB_stats_cleaned.iloc[:, 2].values\n",
    "\n",
    "def rfr_model(X,y):\n",
    "    #grid search\n",
    "    gsc = GridSearchCV(\n",
    "        estimator=RandomForestRegressor(),\n",
    "        param_grid={\n",
    "            'max_depth':range(3,7),\n",
    "            'n_estimators':(10,50,100,1000)\n",
    "        },\n",
    "        cv=5, scoring='neg_mean_squared_error',verbose=0,\n",
    "n_jobs=-1)\n",
    "\n",
    "    grid_result = gsc.fit(X, y)\n",
    "    best_params = grid_result.best_params_\n",
    "    rfr = RandomForestRegressor(max_depth=best_params[\"max_depth\"],\n",
    "n_estimators=best_params[\"n_estimators\"], \n",
    "random_state=False, verbose=False)\n",
    "#K-Fold CV\n",
    "    scores = cross_val_score(rfr,X,y,cv=10,\n",
    "scoring='neg_mean_absolute_error')\n",
    "    predictions = cross_val_predict(rfr, X, y, cv=10)\n",
    "    #print(predictions)\n",
    "    print(scores)\n",
    "    return predictions\n",
    "\n",
    "temp = rfr_model(X,y)\n"
   ]
  },
  {
   "cell_type": "code",
   "execution_count": 31,
   "metadata": {
    "scrolled": true
   },
   "outputs": [
    {
     "data": {
      "text/plain": [
       "array([213.80911216, 290.05848568, 276.40503128, 177.02852373,\n",
       "       150.24228637, 288.87411648, 215.31538658,  93.25552899,\n",
       "        93.25552899, 271.61696653, 150.24228637, 276.40503128,\n",
       "        96.25479679, 152.88052322, 129.85881456, 164.94019855,\n",
       "        93.45147016, 296.54051387, 129.85881456, 334.47265521,\n",
       "       180.33574519, 215.12360433, 111.9667748 , 111.9667748 ,\n",
       "        93.25552899, 102.96644935, 296.54051387,  95.69335509,\n",
       "       276.83471924, 335.34432625, 277.09601932, 238.79985983,\n",
       "        97.79134168, 206.9403073 , 220.51429327, 266.09936273,\n",
       "       280.2040193 , 314.51939287, 208.55041742,  97.79134168,\n",
       "       146.83947945, 148.8144708 , 280.2040193 , 280.2040193 ,\n",
       "       330.18500625, 265.4885694 , 205.68359918, 280.2040193 ,\n",
       "       146.83947945, 302.75401901, 315.66953913, 339.85019742,\n",
       "       332.48726312, 330.18500625, 316.51984518, 330.18500625,\n",
       "       192.04744514, 147.11294728,  90.99723435, 147.11294728,\n",
       "       217.78259271, 102.35935455, 106.17208968,  99.92521574,\n",
       "       264.43060258,  99.92521574, 212.68163052, 158.72166007,\n",
       "        92.64406425,  99.92521574,  92.39091351, 234.82035694,\n",
       "       155.08059676, 211.63491496, 176.22355929, 287.80969045,\n",
       "       239.63008329, 105.73492379, 159.55241848,  92.39091351,\n",
       "       158.3311616 ,  98.0807435 , 263.98720776, 207.99198885,\n",
       "       299.29613625, 158.72166007, 287.80969045, 289.84238996,\n",
       "        97.64742244, 323.88549224, 308.55156866, 100.08775998,\n",
       "        99.26757615, 216.64729761,  99.26757615, 250.34336241,\n",
       "       309.08539729, 308.55156866, 305.96150783, 215.51951448,\n",
       "       283.68564791, 492.05873083, 283.68564791, 284.44702868,\n",
       "       309.11267163, 327.01477465, 332.41297169, 214.90479416,\n",
       "       153.28700256, 153.28700256, 152.40783133,  93.34029761,\n",
       "       153.13996352,  98.30911866, 217.83345348, 215.01479108,\n",
       "        95.7990585 , 355.88611284, 444.74832207, 332.41297169,\n",
       "       338.74415841, 299.73675784, 338.74415841, 201.75781581,\n",
       "        86.36931381, 275.64957521, 379.99926375, 397.96070574,\n",
       "       354.21127573, 369.68463734, 379.99926375, 280.21535239,\n",
       "       204.91994488,  93.19390941, 227.5520553 ,  99.65540012,\n",
       "       318.84909119, 166.88601405, 102.73192079,  84.86980822,\n",
       "       204.91994488, 200.94742072, 166.22779969,  84.86980822,\n",
       "       249.83574751, 277.57808004, 279.45177629,  86.36931381,\n",
       "        99.65540012, 249.83574751, 299.53076953, 332.96695817,\n",
       "       165.47414813, 277.32907685, 287.62223089, 273.00208618,\n",
       "       290.82673037, 282.50797692, 340.35435785, 284.93991785,\n",
       "       205.89052332, 348.30870381, 340.35435785, 450.08213653,\n",
       "       143.8638966 , 277.32907685, 203.01656363, 204.7899213 ,\n",
       "       148.44328628,  93.80532846, 162.50536978, 268.92329685,\n",
       "        96.03207873, 277.78406498, 216.18793788, 277.32907685,\n",
       "       273.00208618, 203.01656363, 258.83480396,  98.00342822,\n",
       "       278.28027741, 282.75968423,  98.00342822, 238.62777784,\n",
       "       296.87302514, 184.10696678, 279.85593353,  98.00342822,\n",
       "       277.29368733, 279.85593353, 305.05475648, 279.85593353,\n",
       "       319.38579181, 151.67069037, 296.87302514, 328.41079503,\n",
       "       424.86584039,  88.63233805, 151.67069037, 280.21540287,\n",
       "       305.05475648, 335.07340089, 308.81637924, 321.41578118,\n",
       "       213.13620451, 346.32241157, 185.89825021, 109.50096327,\n",
       "       247.1630087 , 278.87353833, 204.06921895, 290.21121428,\n",
       "       331.7666442 , 279.20478315, 302.60101444, 200.5330874 ,\n",
       "       100.82545115, 158.99461447, 151.38587664, 157.76128617,\n",
       "       148.92111278, 249.14381469,  96.22496106, 200.98130242,\n",
       "       202.64215849, 149.88696466,  90.98921317, 302.00941336,\n",
       "       279.78334766, 279.78334766, 157.76128617,  90.98921317,\n",
       "       302.11350504, 307.40137798, 200.98130242,  89.04043424,\n",
       "       101.06695805, 142.51267995, 259.55332179, 244.23907359,\n",
       "       100.16827229, 150.24170949, 422.80043868, 456.80161906,\n",
       "       320.09681697, 424.60416185, 320.09681697, 319.54993358,\n",
       "       320.09681697, 216.16833059, 100.16827229, 213.87699519,\n",
       "        98.63396585, 216.50918711, 216.16833059, 270.51474707,\n",
       "       103.71643288,  93.05221465, 214.55974006, 231.44476292,\n",
       "       105.4041241 ,  93.05221465, 302.3384553 , 282.42166338,\n",
       "       227.16232409, 143.15041706, 171.72165593, 165.1903214 ,\n",
       "        90.7855968 , 397.06929041, 320.72913287, 468.52364333,\n",
       "       323.61882259, 213.97682661, 102.20456819, 223.10915679,\n",
       "       253.76926708, 239.79226691, 251.11339112, 253.76926708,\n",
       "       286.81076345, 253.42868573, 170.01472087, 102.3494719 ,\n",
       "       226.93875454, 210.39603937, 226.93875454, 102.20456819,\n",
       "       179.33230183, 152.37238025, 270.41458281, 253.76926708,\n",
       "       102.3494719 , 103.25348302, 188.9563623 ])"
      ]
     },
     "execution_count": 31,
     "metadata": {},
     "output_type": "execute_result"
    }
   ],
   "source": [
    "temp"
   ]
  },
  {
   "cell_type": "code",
   "execution_count": 32,
   "metadata": {
    "scrolled": true
   },
   "outputs": [
    {
     "data": {
      "text/html": [
       "<div>\n",
       "<style scoped>\n",
       "    .dataframe tbody tr th:only-of-type {\n",
       "        vertical-align: middle;\n",
       "    }\n",
       "\n",
       "    .dataframe tbody tr th {\n",
       "        vertical-align: top;\n",
       "    }\n",
       "\n",
       "    .dataframe thead th {\n",
       "        text-align: right;\n",
       "    }\n",
       "</style>\n",
       "<table border=\"1\" class=\"dataframe\">\n",
       "  <thead>\n",
       "    <tr style=\"text-align: right;\">\n",
       "      <th></th>\n",
       "      <th>player_id</th>\n",
       "      <th>passing_completions</th>\n",
       "      <th>total_combined_fantasy_points</th>\n",
       "      <th>total_passing_fantasy_points</th>\n",
       "      <th>year</th>\n",
       "      <th>predicted_score</th>\n",
       "      <th>name</th>\n",
       "    </tr>\n",
       "  </thead>\n",
       "  <tbody>\n",
       "    <tr>\n",
       "      <td>773</td>\n",
       "      <td>6975</td>\n",
       "      <td>441</td>\n",
       "      <td>230.90</td>\n",
       "      <td>204.00</td>\n",
       "      <td>2010</td>\n",
       "      <td>213.809112</td>\n",
       "      <td>Ryan Fitzpatrick</td>\n",
       "    </tr>\n",
       "    <tr>\n",
       "      <td>774</td>\n",
       "      <td>6975</td>\n",
       "      <td>569</td>\n",
       "      <td>250.78</td>\n",
       "      <td>229.28</td>\n",
       "      <td>2011</td>\n",
       "      <td>290.058486</td>\n",
       "      <td>Ryan Fitzpatrick</td>\n",
       "    </tr>\n",
       "    <tr>\n",
       "      <td>775</td>\n",
       "      <td>6975</td>\n",
       "      <td>505</td>\n",
       "      <td>243.70</td>\n",
       "      <td>218.00</td>\n",
       "      <td>2012</td>\n",
       "      <td>276.405031</td>\n",
       "      <td>Ryan Fitzpatrick</td>\n",
       "    </tr>\n",
       "    <tr>\n",
       "      <td>776</td>\n",
       "      <td>6975</td>\n",
       "      <td>350</td>\n",
       "      <td>178.66</td>\n",
       "      <td>137.16</td>\n",
       "      <td>2013</td>\n",
       "      <td>177.028524</td>\n",
       "      <td>Ryan Fitzpatrick</td>\n",
       "    </tr>\n",
       "    <tr>\n",
       "      <td>777</td>\n",
       "      <td>6975</td>\n",
       "      <td>312</td>\n",
       "      <td>194.72</td>\n",
       "      <td>164.32</td>\n",
       "      <td>2014</td>\n",
       "      <td>150.242286</td>\n",
       "      <td>Ryan Fitzpatrick</td>\n",
       "    </tr>\n",
       "    <tr>\n",
       "      <td>...</td>\n",
       "      <td>...</td>\n",
       "      <td>...</td>\n",
       "      <td>...</td>\n",
       "      <td>...</td>\n",
       "      <td>...</td>\n",
       "      <td>...</td>\n",
       "      <td>...</td>\n",
       "    </tr>\n",
       "    <tr>\n",
       "      <td>27117</td>\n",
       "      <td>9351</td>\n",
       "      <td>525</td>\n",
       "      <td>211.14</td>\n",
       "      <td>187.24</td>\n",
       "      <td>2010</td>\n",
       "      <td>270.414583</td>\n",
       "      <td>Matt Hasselbeck</td>\n",
       "    </tr>\n",
       "    <tr>\n",
       "      <td>27118</td>\n",
       "      <td>9351</td>\n",
       "      <td>518</td>\n",
       "      <td>209.04</td>\n",
       "      <td>203.84</td>\n",
       "      <td>2011</td>\n",
       "      <td>253.769267</td>\n",
       "      <td>Matt Hasselbeck</td>\n",
       "    </tr>\n",
       "    <tr>\n",
       "      <td>27119</td>\n",
       "      <td>9351</td>\n",
       "      <td>221</td>\n",
       "      <td>76.48</td>\n",
       "      <td>72.68</td>\n",
       "      <td>2012</td>\n",
       "      <td>102.349472</td>\n",
       "      <td>Matt Hasselbeck</td>\n",
       "    </tr>\n",
       "    <tr>\n",
       "      <td>27122</td>\n",
       "      <td>9351</td>\n",
       "      <td>256</td>\n",
       "      <td>97.10</td>\n",
       "      <td>95.60</td>\n",
       "      <td>2015</td>\n",
       "      <td>103.253483</td>\n",
       "      <td>Matt Hasselbeck</td>\n",
       "    </tr>\n",
       "    <tr>\n",
       "      <td>27934</td>\n",
       "      <td>7637</td>\n",
       "      <td>366</td>\n",
       "      <td>242.26</td>\n",
       "      <td>184.36</td>\n",
       "      <td>2010</td>\n",
       "      <td>188.956362</td>\n",
       "      <td>David Garrard</td>\n",
       "    </tr>\n",
       "  </tbody>\n",
       "</table>\n",
       "<p>295 rows × 7 columns</p>\n",
       "</div>"
      ],
      "text/plain": [
       "       player_id  passing_completions  total_combined_fantasy_points  \\\n",
       "773         6975                  441                         230.90   \n",
       "774         6975                  569                         250.78   \n",
       "775         6975                  505                         243.70   \n",
       "776         6975                  350                         178.66   \n",
       "777         6975                  312                         194.72   \n",
       "...          ...                  ...                            ...   \n",
       "27117       9351                  525                         211.14   \n",
       "27118       9351                  518                         209.04   \n",
       "27119       9351                  221                          76.48   \n",
       "27122       9351                  256                          97.10   \n",
       "27934       7637                  366                         242.26   \n",
       "\n",
       "       total_passing_fantasy_points  year  predicted_score              name  \n",
       "773                          204.00  2010       213.809112  Ryan Fitzpatrick  \n",
       "774                          229.28  2011       290.058486  Ryan Fitzpatrick  \n",
       "775                          218.00  2012       276.405031  Ryan Fitzpatrick  \n",
       "776                          137.16  2013       177.028524  Ryan Fitzpatrick  \n",
       "777                          164.32  2014       150.242286  Ryan Fitzpatrick  \n",
       "...                             ...   ...              ...               ...  \n",
       "27117                        187.24  2010       270.414583  Matt Hasselbeck   \n",
       "27118                        203.84  2011       253.769267  Matt Hasselbeck   \n",
       "27119                         72.68  2012       102.349472  Matt Hasselbeck   \n",
       "27122                         95.60  2015       103.253483  Matt Hasselbeck   \n",
       "27934                        184.36  2010       188.956362     David Garrard  \n",
       "\n",
       "[295 rows x 7 columns]"
      ]
     },
     "execution_count": 32,
     "metadata": {},
     "output_type": "execute_result"
    }
   ],
   "source": [
    "QB_stats_predictions = QB_stats_cleaned\n",
    "#predicted_QB_FP = pd.DataFrame(np.array(temp).T)\n",
    "#predicted_QB_FP\n",
    "QB_stats_predictions['predicted_score']= temp\n",
    "#QB_stats_predictions\n",
    "\n",
    "QB_predictions_names = QB_stats_predictions.join(Name_Id.set_index('player_id'), on='player_id', how='inner')\n",
    "#QB_predictions_names = QB_predictions_names[QB_predictions_names['total_combined_fantasy_points']>= 64]\n",
    "QB_predictions_names"
   ]
  },
  {
   "cell_type": "code",
   "execution_count": 49,
   "metadata": {},
   "outputs": [],
   "source": [
    "QB_predictions_names.to_csv('QB_predictions_names.csv', index=False)"
   ]
  },
  {
   "cell_type": "code",
   "execution_count": 33,
   "metadata": {},
   "outputs": [
    {
     "data": {
      "text/plain": [
       "player_id                          int64\n",
       "receiving_yards                    int64\n",
       "total_combined_fantasy_points    float64\n",
       "dtype: object"
      ]
     },
     "execution_count": 33,
     "metadata": {},
     "output_type": "execute_result"
    }
   ],
   "source": [
    "#Clean data for wide receiver positioin\n",
    "WR_only = All_Positions[All_Positions['position_cleaned']=='WR']\n",
    "WR_stats = WR_only[['player_id','receiving_yards', 'total_combined_fantasy_points']]\n",
    "WR_stats.dtypes"
   ]
  },
  {
   "cell_type": "code",
   "execution_count": 34,
   "metadata": {},
   "outputs": [
    {
     "data": {
      "text/html": [
       "<div>\n",
       "<style scoped>\n",
       "    .dataframe tbody tr th:only-of-type {\n",
       "        vertical-align: middle;\n",
       "    }\n",
       "\n",
       "    .dataframe tbody tr th {\n",
       "        vertical-align: top;\n",
       "    }\n",
       "\n",
       "    .dataframe thead th {\n",
       "        text-align: right;\n",
       "    }\n",
       "</style>\n",
       "<table border=\"1\" class=\"dataframe\">\n",
       "  <thead>\n",
       "    <tr style=\"text-align: right;\">\n",
       "      <th></th>\n",
       "      <th>player_id</th>\n",
       "      <th>receiving_yards</th>\n",
       "      <th>total_combined_fantasy_points</th>\n",
       "    </tr>\n",
       "  </thead>\n",
       "  <tbody>\n",
       "    <tr>\n",
       "      <td>54</td>\n",
       "      <td>19449</td>\n",
       "      <td>467</td>\n",
       "      <td>93.7</td>\n",
       "    </tr>\n",
       "    <tr>\n",
       "      <td>55</td>\n",
       "      <td>19449</td>\n",
       "      <td>369</td>\n",
       "      <td>77.5</td>\n",
       "    </tr>\n",
       "    <tr>\n",
       "      <td>56</td>\n",
       "      <td>19449</td>\n",
       "      <td>626</td>\n",
       "      <td>113.0</td>\n",
       "    </tr>\n",
       "    <tr>\n",
       "      <td>57</td>\n",
       "      <td>19449</td>\n",
       "      <td>740</td>\n",
       "      <td>179.5</td>\n",
       "    </tr>\n",
       "    <tr>\n",
       "      <td>58</td>\n",
       "      <td>19449</td>\n",
       "      <td>1450</td>\n",
       "      <td>311.4</td>\n",
       "    </tr>\n",
       "    <tr>\n",
       "      <td>...</td>\n",
       "      <td>...</td>\n",
       "      <td>...</td>\n",
       "      <td>...</td>\n",
       "    </tr>\n",
       "    <tr>\n",
       "      <td>28841</td>\n",
       "      <td>13822</td>\n",
       "      <td>564</td>\n",
       "      <td>114.3</td>\n",
       "    </tr>\n",
       "    <tr>\n",
       "      <td>28842</td>\n",
       "      <td>13822</td>\n",
       "      <td>350</td>\n",
       "      <td>85.0</td>\n",
       "    </tr>\n",
       "    <tr>\n",
       "      <td>28920</td>\n",
       "      <td>13991</td>\n",
       "      <td>944</td>\n",
       "      <td>208.6</td>\n",
       "    </tr>\n",
       "    <tr>\n",
       "      <td>28921</td>\n",
       "      <td>13991</td>\n",
       "      <td>712</td>\n",
       "      <td>165.2</td>\n",
       "    </tr>\n",
       "    <tr>\n",
       "      <td>28922</td>\n",
       "      <td>13991</td>\n",
       "      <td>449</td>\n",
       "      <td>99.3</td>\n",
       "    </tr>\n",
       "  </tbody>\n",
       "</table>\n",
       "<p>772 rows × 3 columns</p>\n",
       "</div>"
      ],
      "text/plain": [
       "       player_id  receiving_yards  total_combined_fantasy_points\n",
       "54         19449              467                           93.7\n",
       "55         19449              369                           77.5\n",
       "56         19449              626                          113.0\n",
       "57         19449              740                          179.5\n",
       "58         19449             1450                          311.4\n",
       "...          ...              ...                            ...\n",
       "28841      13822              564                          114.3\n",
       "28842      13822              350                           85.0\n",
       "28920      13991              944                          208.6\n",
       "28921      13991              712                          165.2\n",
       "28922      13991              449                           99.3\n",
       "\n",
       "[772 rows x 3 columns]"
      ]
     },
     "execution_count": 34,
     "metadata": {},
     "output_type": "execute_result"
    }
   ],
   "source": [
    "WR_stats_cleaned = WR_stats.dropna()\n",
    "WR_stats_cleaned"
   ]
  },
  {
   "cell_type": "code",
   "execution_count": 35,
   "metadata": {
    "scrolled": true
   },
   "outputs": [
    {
     "data": {
      "text/plain": [
       "RandomForestRegressor(bootstrap=True, criterion='mse', max_depth=None,\n",
       "                      max_features='auto', max_leaf_nodes=None,\n",
       "                      min_impurity_decrease=0.0, min_impurity_split=None,\n",
       "                      min_samples_leaf=1, min_samples_split=2,\n",
       "                      min_weight_fraction_leaf=0.0, n_estimators=100,\n",
       "                      n_jobs=None, oob_score=False, random_state=0, verbose=0,\n",
       "                      warm_start=False)"
      ]
     },
     "execution_count": 35,
     "metadata": {},
     "output_type": "execute_result"
    }
   ],
   "source": [
    "#Select column 1 (receiving_yards) as X\n",
    "X = WR_stats_cleaned.iloc[:, 1:2].values\n",
    "\n",
    "#Select column 2 (total_combined_fantasy_points) as y\n",
    "y = WR_stats_cleaned.iloc[:, 2].values\n",
    "\n",
    "#make a regressor object\n",
    "regressor = RandomForestRegressor(n_estimators = 100, random_state = 0)\n",
    "#fit the regressor with X and y data\n",
    "regressor.fit(X,y)"
   ]
  },
  {
   "cell_type": "code",
   "execution_count": 36,
   "metadata": {},
   "outputs": [
    {
     "data": {
      "text/plain": [
       "array([100.6684])"
      ]
     },
     "execution_count": 36,
     "metadata": {},
     "output_type": "execute_result"
    }
   ],
   "source": [
    "Y_pred = regressor.predict(np.array([6.5]).reshape(1, 1))\n",
    "Y_pred"
   ]
  },
  {
   "cell_type": "code",
   "execution_count": 38,
   "metadata": {},
   "outputs": [
    {
     "data": {
      "image/png": "[encoded data removed]",
      "text/plain": [
       "<Figure size 432x288 with 1 Axes>"
      ]
     },
     "metadata": {
      "needs_background": "light"
     },
     "output_type": "display_data"
    }
   ],
   "source": [
    "#Visualize the Random Forest Regression Results\n",
    "X_grid = np.arange(min(X), max(X), 0.01)\n",
    "X_grid = X_grid.reshape((len(X_grid), 1))\n",
    "#scatter plot of data\n",
    "plt.scatter(X,y, color = 'red')\n",
    "#plot of predicted data\n",
    "plt.plot(X_grid, regressor.predict(X_grid), color = 'blue')\n",
    "plt.title('Random Forest Regression for NFL Wide Receivers')\n",
    "plt.xlabel('Receiving Yards')\n",
    "plt.ylabel('Total Combined Fantasy Points')\n",
    "plt.show()"
   ]
  },
  {
   "cell_type": "code",
   "execution_count": 39,
   "metadata": {},
   "outputs": [
    {
     "data": {
      "text/html": [
       "<div>\n",
       "<style scoped>\n",
       "    .dataframe tbody tr th:only-of-type {\n",
       "        vertical-align: middle;\n",
       "    }\n",
       "\n",
       "    .dataframe tbody tr th {\n",
       "        vertical-align: top;\n",
       "    }\n",
       "\n",
       "    .dataframe thead th {\n",
       "        text-align: right;\n",
       "    }\n",
       "</style>\n",
       "<table border=\"1\" class=\"dataframe\">\n",
       "  <thead>\n",
       "    <tr style=\"text-align: right;\">\n",
       "      <th></th>\n",
       "      <th>player_id</th>\n",
       "      <th>rushing_yards</th>\n",
       "      <th>rushing_touchdowns</th>\n",
       "      <th>total_combined_fantasy_points</th>\n",
       "      <th>rushing_attempts</th>\n",
       "    </tr>\n",
       "  </thead>\n",
       "  <tbody>\n",
       "    <tr>\n",
       "      <td>87</td>\n",
       "      <td>17858</td>\n",
       "      <td>437</td>\n",
       "      <td>4</td>\n",
       "      <td>98.7</td>\n",
       "      <td>110</td>\n",
       "    </tr>\n",
       "    <tr>\n",
       "      <td>88</td>\n",
       "      <td>17858</td>\n",
       "      <td>697</td>\n",
       "      <td>1</td>\n",
       "      <td>140.1</td>\n",
       "      <td>176</td>\n",
       "    </tr>\n",
       "    <tr>\n",
       "      <td>90</td>\n",
       "      <td>17858</td>\n",
       "      <td>313</td>\n",
       "      <td>1</td>\n",
       "      <td>135.1</td>\n",
       "      <td>70</td>\n",
       "    </tr>\n",
       "    <tr>\n",
       "      <td>91</td>\n",
       "      <td>17858</td>\n",
       "      <td>722</td>\n",
       "      <td>3</td>\n",
       "      <td>199.0</td>\n",
       "      <td>131</td>\n",
       "    </tr>\n",
       "    <tr>\n",
       "      <td>92</td>\n",
       "      <td>17858</td>\n",
       "      <td>454</td>\n",
       "      <td>2</td>\n",
       "      <td>93.2</td>\n",
       "      <td>102</td>\n",
       "    </tr>\n",
       "    <tr>\n",
       "      <td>...</td>\n",
       "      <td>...</td>\n",
       "      <td>...</td>\n",
       "      <td>...</td>\n",
       "      <td>...</td>\n",
       "      <td>...</td>\n",
       "    </tr>\n",
       "    <tr>\n",
       "      <td>28868</td>\n",
       "      <td>10701</td>\n",
       "      <td>439</td>\n",
       "      <td>3</td>\n",
       "      <td>100.5</td>\n",
       "      <td>117</td>\n",
       "    </tr>\n",
       "    <tr>\n",
       "      <td>28869</td>\n",
       "      <td>10701</td>\n",
       "      <td>280</td>\n",
       "      <td>1</td>\n",
       "      <td>77.2</td>\n",
       "      <td>85</td>\n",
       "    </tr>\n",
       "    <tr>\n",
       "      <td>28926</td>\n",
       "      <td>7155</td>\n",
       "      <td>552</td>\n",
       "      <td>2</td>\n",
       "      <td>134.1</td>\n",
       "      <td>126</td>\n",
       "    </tr>\n",
       "    <tr>\n",
       "      <td>28930</td>\n",
       "      <td>7155</td>\n",
       "      <td>1435</td>\n",
       "      <td>8</td>\n",
       "      <td>273.2</td>\n",
       "      <td>275</td>\n",
       "    </tr>\n",
       "    <tr>\n",
       "      <td>28931</td>\n",
       "      <td>7155</td>\n",
       "      <td>641</td>\n",
       "      <td>2</td>\n",
       "      <td>122.4</td>\n",
       "      <td>151</td>\n",
       "    </tr>\n",
       "  </tbody>\n",
       "</table>\n",
       "<p>509 rows × 5 columns</p>\n",
       "</div>"
      ],
      "text/plain": [
       "       player_id  rushing_yards  rushing_touchdowns  \\\n",
       "87         17858            437                   4   \n",
       "88         17858            697                   1   \n",
       "90         17858            313                   1   \n",
       "91         17858            722                   3   \n",
       "92         17858            454                   2   \n",
       "...          ...            ...                 ...   \n",
       "28868      10701            439                   3   \n",
       "28869      10701            280                   1   \n",
       "28926       7155            552                   2   \n",
       "28930       7155           1435                   8   \n",
       "28931       7155            641                   2   \n",
       "\n",
       "       total_combined_fantasy_points  rushing_attempts  \n",
       "87                              98.7               110  \n",
       "88                             140.1               176  \n",
       "90                             135.1                70  \n",
       "91                             199.0               131  \n",
       "92                              93.2               102  \n",
       "...                              ...               ...  \n",
       "28868                          100.5               117  \n",
       "28869                           77.2                85  \n",
       "28926                          134.1               126  \n",
       "28930                          273.2               275  \n",
       "28931                          122.4               151  \n",
       "\n",
       "[509 rows x 5 columns]"
      ]
     },
     "execution_count": 39,
     "metadata": {},
     "output_type": "execute_result"
    }
   ],
   "source": [
    "#Clean data for running back positioin\n",
    "RB_only = All_Positions[All_Positions['position_cleaned']=='RB']\n",
    "RB_stats = RB_only[['player_id','rushing_yards', 'rushing_touchdowns','total_combined_fantasy_points', 'rushing_attempts']]\n",
    "RB_stats_cleaned = RB_stats.dropna()\n",
    "RB_stats_cleaned"
   ]
  },
  {
   "cell_type": "code",
   "execution_count": 40,
   "metadata": {},
   "outputs": [
    {
     "data": {
      "text/plain": [
       "RandomForestRegressor(bootstrap=True, criterion='mse', max_depth=None,\n",
       "                      max_features='auto', max_leaf_nodes=None,\n",
       "                      min_impurity_decrease=0.0, min_impurity_split=None,\n",
       "                      min_samples_leaf=1, min_samples_split=2,\n",
       "                      min_weight_fraction_leaf=0.0, n_estimators=100,\n",
       "                      n_jobs=None, oob_score=False, random_state=0, verbose=0,\n",
       "                      warm_start=False)"
      ]
     },
     "execution_count": 40,
     "metadata": {},
     "output_type": "execute_result"
    }
   ],
   "source": [
    "#Select column 1 (rushing_yards) as X\n",
    "X = RB_stats_cleaned.iloc[:, 1:2].values\n",
    "\n",
    "#Select column 3 (total_combined_fantasy_points) as y\n",
    "y = RB_stats_cleaned.iloc[:, 3].values\n",
    "\n",
    "#make a regressor object\n",
    "regressor = RandomForestRegressor(n_estimators = 100, random_state = 0)\n",
    "#fit the regressor with X and y data\n",
    "regressor.fit(X,y)"
   ]
  },
  {
   "cell_type": "code",
   "execution_count": 41,
   "metadata": {},
   "outputs": [
    {
     "data": {
      "image/png": "[encoded data removed]",
      "text/plain": [
       "<Figure size 432x288 with 1 Axes>"
      ]
     },
     "metadata": {
      "needs_background": "light"
     },
     "output_type": "display_data"
    }
   ],
   "source": [
    "#Visualize the Random Forest Regression Results\n",
    "X_grid = np.arange(min(X), max(X), 0.01)\n",
    "X_grid = X_grid.reshape((len(X_grid), 1))\n",
    "#scatter plot of data\n",
    "plt.scatter(X,y, color = 'green')\n",
    "#plot of predicted data\n",
    "plt.plot(X_grid, regressor.predict(X_grid), color = 'orange')\n",
    "plt.title('Random Forest Regression for NFL Running Backs')\n",
    "plt.xlabel('Rushing Yards')\n",
    "plt.ylabel('Total Combined Fantasy Points')\n",
    "plt.show()"
   ]
  },
  {
   "cell_type": "code",
   "execution_count": 42,
   "metadata": {},
   "outputs": [
    {
     "data": {
      "text/plain": [
       "RandomForestRegressor(bootstrap=True, criterion='mse', max_depth=None,\n",
       "                      max_features='auto', max_leaf_nodes=None,\n",
       "                      min_impurity_decrease=0.0, min_impurity_split=None,\n",
       "                      min_samples_leaf=1, min_samples_split=2,\n",
       "                      min_weight_fraction_leaf=0.0, n_estimators=100,\n",
       "                      n_jobs=None, oob_score=False, random_state=0, verbose=0,\n",
       "                      warm_start=False)"
      ]
     },
     "execution_count": 42,
     "metadata": {},
     "output_type": "execute_result"
    }
   ],
   "source": [
    "#Select column 2 (rushing_yards) as X\n",
    "X = RB_stats_cleaned.iloc[:, 2:3].values\n",
    "#X\n",
    "#Select column 3 (total_combined_fantasy_points) as y\n",
    "y = RB_stats_cleaned.iloc[:, 3].values\n",
    "\n",
    "#make a regressor object\n",
    "regressor = RandomForestRegressor(n_estimators = 100, random_state = 0)\n",
    "#fit the regressor with X and y data\n",
    "regressor.fit(X,y)"
   ]
  },
  {
   "cell_type": "code",
   "execution_count": 43,
   "metadata": {},
   "outputs": [
    {
     "data": {
      "image/png": "[encoded data removed]",
      "text/plain": [
       "<Figure size 432x288 with 1 Axes>"
      ]
     },
     "metadata": {
      "needs_background": "light"
     },
     "output_type": "display_data"
    }
   ],
   "source": [
    "#Visualize the Random Forest Regression Results\n",
    "X_grid = np.arange(min(X), max(X), 0.01)\n",
    "X_grid = X_grid.reshape((len(X_grid), 1))\n",
    "#scatter plot of data\n",
    "plt.scatter(X,y, color = 'blue')\n",
    "#plot of predicted data\n",
    "plt.plot(X_grid, regressor.predict(X_grid), color = 'orange')\n",
    "plt.title('Random Forest Regression for NFL Running Backs')\n",
    "plt.xlabel('Rushing Touchdowns')\n",
    "plt.ylabel('Total Combined Fantasy Points')\n",
    "plt.show()"
   ]
  },
  {
   "cell_type": "code",
   "execution_count": 44,
   "metadata": {},
   "outputs": [
    {
     "data": {
      "text/plain": [
       "RandomForestRegressor(bootstrap=True, criterion='mse', max_depth=None,\n",
       "                      max_features='auto', max_leaf_nodes=None,\n",
       "                      min_impurity_decrease=0.0, min_impurity_split=None,\n",
       "                      min_samples_leaf=1, min_samples_split=2,\n",
       "                      min_weight_fraction_leaf=0.0, n_estimators=100,\n",
       "                      n_jobs=None, oob_score=False, random_state=0, verbose=0,\n",
       "                      warm_start=False)"
      ]
     },
     "execution_count": 44,
     "metadata": {},
     "output_type": "execute_result"
    }
   ],
   "source": [
    "#Select column 1 (rushing_yards) as X\n",
    "X = RB_stats_cleaned.iloc[:, 1:2].values\n",
    "#X\n",
    "#Select column 4 (rushing attempts) as y\n",
    "y = RB_stats_cleaned.iloc[:, 4].values\n",
    "#y\n",
    "# #make a regressor object\n",
    "regressor = RandomForestRegressor(n_estimators = 100, random_state = 0)\n",
    "# #fit the regressor with X and y data\n",
    "regressor.fit(X,y)"
   ]
  },
  {
   "cell_type": "code",
   "execution_count": 45,
   "metadata": {},
   "outputs": [
    {
     "data": {
      "image/png": "[encoded data removed]",
      "text/plain": [
       "<Figure size 432x288 with 1 Axes>"
      ]
     },
     "metadata": {
      "needs_background": "light"
     },
     "output_type": "display_data"
    }
   ],
   "source": [
    "#Visualize the Random Forest Regression Results\n",
    "X_grid = np.arange(min(X), max(X), 0.01)\n",
    "X_grid = X_grid.reshape((len(X_grid), 1))\n",
    "#scatter plot of data\n",
    "plt.scatter(X,y, color = 'blue')\n",
    "#plot of predicted data\n",
    "plt.plot(X_grid, regressor.predict(X_grid), color = 'red')\n",
    "plt.title('Random Forest Regression for NFL Running Backs')\n",
    "plt.xlabel('Rushing Yards')\n",
    "plt.ylabel('Rushing Attempts')\n",
    "plt.show()"
   ]
  },
  {
   "cell_type": "code",
   "execution_count": 46,
   "metadata": {},
   "outputs": [
    {
     "data": {
      "text/plain": [
       "RandomForestRegressor(bootstrap=True, criterion='mse', max_depth=None,\n",
       "                      max_features='auto', max_leaf_nodes=None,\n",
       "                      min_impurity_decrease=0.0, min_impurity_split=None,\n",
       "                      min_samples_leaf=1, min_samples_split=2,\n",
       "                      min_weight_fraction_leaf=0.0, n_estimators=100,\n",
       "                      n_jobs=None, oob_score=False, random_state=0, verbose=0,\n",
       "                      warm_start=False)"
      ]
     },
     "execution_count": 46,
     "metadata": {},
     "output_type": "execute_result"
    }
   ],
   "source": [
    "#Select column 4 (rushing_attempts) as X\n",
    "X = RB_stats_cleaned.iloc[:, 4:5].values\n",
    "#X\n",
    "#Select column 3 (total_combined_fantasy_points) as y\n",
    "y = RB_stats_cleaned.iloc[:, 3].values\n",
    "\n",
    "#make a regressor object\n",
    "regressor = RandomForestRegressor(n_estimators = 100, random_state = 0)\n",
    "#fit the regressor with X and y data\n",
    "regressor.fit(X,y)"
   ]
  },
  {
   "cell_type": "code",
   "execution_count": 47,
   "metadata": {},
   "outputs": [
    {
     "data": {
      "image/png": "[encoded data removed]",
      "text/plain": [
       "<Figure size 432x288 with 1 Axes>"
      ]
     },
     "metadata": {
      "needs_background": "light"
     },
     "output_type": "display_data"
    }
   ],
   "source": [
    "#Visualize the Random Forest Regression Results\n",
    "X_grid = np.arange(min(X), max(X), 0.01)\n",
    "X_grid = X_grid.reshape((len(X_grid), 1))\n",
    "#scatter plot of data\n",
    "plt.scatter(X,y, color = 'blue')\n",
    "#plot of predicted data\n",
    "plt.plot(X_grid, regressor.predict(X_grid), color = 'green')\n",
    "plt.title('Random Forest Regression for NFL Running Backs')\n",
    "plt.xlabel('Rushing Attempts')\n",
    "plt.ylabel('Total Combined Fantasy Points')\n",
    "plt.show()"
   ]
  },
  {
   "cell_type": "code",
   "execution_count": null,
   "metadata": {},
   "outputs": [],
   "source": []
  }
 ],
 "metadata": {
  "kernelspec": {
   "display_name": "Python 3",
   "language": "python",
   "name": "python3"
  },
  "language_info": {
   "codemirror_mode": {
    "name": "ipython",
    "version": 3
   },
   "file_extension": ".py",
   "mimetype": "text/x-python",
   "name": "python",
   "nbconvert_exporter": "python",
   "pygments_lexer": "ipython3",
   "version": "3.7.4"
  }
 },
 "nbformat": 4,
 "nbformat_minor": 2
}
